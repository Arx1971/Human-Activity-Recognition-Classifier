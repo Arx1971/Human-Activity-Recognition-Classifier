{
 "cells": [
  {
   "cell_type": "code",
   "execution_count": 1,
   "metadata": {},
   "outputs": [],
   "source": [
    "import pandas as pd\n",
    "import tensorflow as tf\n",
    "import numpy as np"
   ]
  },
  {
   "cell_type": "code",
   "execution_count": 2,
   "metadata": {},
   "outputs": [
    {
     "name": "stdout",
     "output_type": "stream",
     "text": [
      "Num GPUs Available:  1\n"
     ]
    }
   ],
   "source": [
    "print(\"Num GPUs Available: \", len(tf.config.experimental.list_physical_devices('GPU')))"
   ]
  },
  {
   "cell_type": "code",
   "execution_count": 4,
   "metadata": {},
   "outputs": [],
   "source": [
    "Train_data_set = pd.read_csv(\"train.csv\")"
   ]
  },
  {
   "cell_type": "code",
   "execution_count": 5,
   "metadata": {},
   "outputs": [
    {
     "name": "stdout",
     "output_type": "stream",
     "text": [
      "      tBodyAcc-mean()-X  tBodyAcc-mean()-Y  tBodyAcc-mean()-Z  \\\n",
      "0              0.288585          -0.020294          -0.132905   \n",
      "1              0.278419          -0.016411          -0.123520   \n",
      "2              0.279653          -0.019467          -0.113462   \n",
      "3              0.279174          -0.026201          -0.123283   \n",
      "4              0.276629          -0.016570          -0.115362   \n",
      "...                 ...                ...                ...   \n",
      "7347           0.299665          -0.057193          -0.181233   \n",
      "7348           0.273853          -0.007749          -0.147468   \n",
      "7349           0.273387          -0.017011          -0.045022   \n",
      "7350           0.289654          -0.018843          -0.158281   \n",
      "7351           0.351503          -0.012423          -0.203867   \n",
      "\n",
      "      tBodyAcc-std()-X  tBodyAcc-std()-Y  tBodyAcc-std()-Z  tBodyAcc-mad()-X  \\\n",
      "0            -0.995279         -0.983111         -0.913526         -0.995112   \n",
      "1            -0.998245         -0.975300         -0.960322         -0.998807   \n",
      "2            -0.995380         -0.967187         -0.978944         -0.996520   \n",
      "3            -0.996091         -0.983403         -0.990675         -0.997099   \n",
      "4            -0.998139         -0.980817         -0.990482         -0.998321   \n",
      "...                ...               ...               ...               ...   \n",
      "7347         -0.195387          0.039905          0.077078         -0.282301   \n",
      "7348         -0.235309          0.004816          0.059280         -0.322552   \n",
      "7349         -0.218218         -0.103822          0.274533         -0.304515   \n",
      "7350         -0.219139         -0.111412          0.268893         -0.310487   \n",
      "7351         -0.269270         -0.087212          0.177404         -0.377404   \n",
      "\n",
      "      tBodyAcc-mad()-Y  tBodyAcc-mad()-Z  tBodyAcc-max()-X  ...  \\\n",
      "0            -0.983185         -0.923527         -0.934724  ...   \n",
      "1            -0.974914         -0.957686         -0.943068  ...   \n",
      "2            -0.963668         -0.977469         -0.938692  ...   \n",
      "3            -0.982750         -0.989302         -0.938692  ...   \n",
      "4            -0.979672         -0.990441         -0.942469  ...   \n",
      "...                ...               ...               ...  ...   \n",
      "7347          0.043616          0.060410          0.210795  ...   \n",
      "7348         -0.029456          0.080585          0.117440  ...   \n",
      "7349         -0.098913          0.332584          0.043999  ...   \n",
      "7350         -0.068200          0.319473          0.101702  ...   \n",
      "7351         -0.038678          0.229430          0.269013  ...   \n",
      "\n",
      "      fBodyBodyGyroJerkMag-kurtosis()  angle(tBodyAccMean,gravity)  \\\n",
      "0                           -0.710304                    -0.112754   \n",
      "1                           -0.861499                     0.053477   \n",
      "2                           -0.760104                    -0.118559   \n",
      "3                           -0.482845                    -0.036788   \n",
      "4                           -0.699205                     0.123320   \n",
      "...                               ...                          ...   \n",
      "7347                        -0.880324                    -0.190437   \n",
      "7348                        -0.680744                     0.064907   \n",
      "7349                        -0.304029                     0.052806   \n",
      "7350                        -0.344314                    -0.101360   \n",
      "7351                        -0.740738                    -0.280088   \n",
      "\n",
      "      angle(tBodyAccJerkMean),gravityMean)  angle(tBodyGyroMean,gravityMean)  \\\n",
      "0                                 0.030400                         -0.464761   \n",
      "1                                -0.007435                         -0.732626   \n",
      "2                                 0.177899                          0.100699   \n",
      "3                                -0.012892                          0.640011   \n",
      "4                                 0.122542                          0.693578   \n",
      "...                                    ...                               ...   \n",
      "7347                              0.829718                          0.206972   \n",
      "7348                              0.875679                         -0.879033   \n",
      "7349                             -0.266724                          0.864404   \n",
      "7350                              0.700740                          0.936674   \n",
      "7351                             -0.007739                         -0.056088   \n",
      "\n",
      "      angle(tBodyGyroJerkMean,gravityMean)  angle(X,gravityMean)  \\\n",
      "0                                -0.018446             -0.841247   \n",
      "1                                 0.703511             -0.844788   \n",
      "2                                 0.808529             -0.848933   \n",
      "3                                -0.485366             -0.848649   \n",
      "4                                -0.615971             -0.847865   \n",
      "...                                    ...                   ...   \n",
      "7347                             -0.425619             -0.791883   \n",
      "7348                              0.400219             -0.771840   \n",
      "7349                              0.701169             -0.779133   \n",
      "7350                             -0.589479             -0.785181   \n",
      "7351                             -0.616956             -0.783267   \n",
      "\n",
      "      angle(Y,gravityMean)  angle(Z,gravityMean)  subject          Activity  \n",
      "0                 0.179941             -0.058627        1          STANDING  \n",
      "1                 0.180289             -0.054317        1          STANDING  \n",
      "2                 0.180637             -0.049118        1          STANDING  \n",
      "3                 0.181935             -0.047663        1          STANDING  \n",
      "4                 0.185151             -0.043892        1          STANDING  \n",
      "...                    ...                   ...      ...               ...  \n",
      "7347              0.238604              0.049819       30  WALKING_UPSTAIRS  \n",
      "7348              0.252676              0.050053       30  WALKING_UPSTAIRS  \n",
      "7349              0.249145              0.040811       30  WALKING_UPSTAIRS  \n",
      "7350              0.246432              0.025339       30  WALKING_UPSTAIRS  \n",
      "7351              0.246809              0.036695       30  WALKING_UPSTAIRS  \n",
      "\n",
      "[7352 rows x 563 columns]\n"
     ]
    }
   ],
   "source": [
    "print(Train_data_set)"
   ]
  },
  {
   "cell_type": "code",
   "execution_count": null,
   "metadata": {},
   "outputs": [],
   "source": []
  }
 ],
 "metadata": {
  "kernelspec": {
   "display_name": "Python 3.7 (tensorflow)",
   "language": "python",
   "name": "tensorflow"
  },
  "language_info": {
   "codemirror_mode": {
    "name": "ipython",
    "version": 3
   },
   "file_extension": ".py",
   "mimetype": "text/x-python",
   "name": "python",
   "nbconvert_exporter": "python",
   "pygments_lexer": "ipython3",
   "version": "3.7.7"
  }
 },
 "nbformat": 4,
 "nbformat_minor": 4
}
